{
  "nbformat": 4,
  "nbformat_minor": 0,
  "metadata": {
    "colab": {
      "provenance": [],
      "gpuType": "T4",
      "authorship_tag": "ABX9TyNgmdvjKqGnj9Nhhn1ve5fP",
      "include_colab_link": true
    },
    "kernelspec": {
      "name": "python3",
      "display_name": "Python 3"
    },
    "language_info": {
      "name": "python"
    },
    "accelerator": "GPU"
  },
  "cells": [
    {
      "cell_type": "markdown",
      "metadata": {
        "id": "view-in-github",
        "colab_type": "text"
      },
      "source": [
        "<a href=\"https://colab.research.google.com/github/JanaRusrus/PyTorch-_Lightning_MasterClass/blob/main/01_MNIST_NN.ipynb\" target=\"_parent\"><img src=\"https://colab.research.google.com/assets/colab-badge.svg\" alt=\"Open In Colab\"/></a>"
      ]
    },
    {
      "cell_type": "code",
      "execution_count": 17,
      "metadata": {
        "id": "nPAiOiz6U46u"
      },
      "outputs": [],
      "source": [
        "import torch\n",
        "from torch import nn\n",
        "from torch import optim\n",
        "from torchvision import datasets, transforms\n",
        "from torch.utils.data import random_split, DataLoader\n"
      ]
    },
    {
      "cell_type": "code",
      "source": [
        " torch.randn(5).cuda()"
      ],
      "metadata": {
        "colab": {
          "base_uri": "https://localhost:8080/"
        },
        "id": "DOPPQivjkTD-",
        "outputId": "fc66dc64-b564-4335-b8a2-84b0c687a347"
      },
      "execution_count": 18,
      "outputs": [
        {
          "output_type": "execute_result",
          "data": {
            "text/plain": [
              "tensor([-0.2801, -0.9804,  0.1072, -1.1904,  0.0494], device='cuda:0')"
            ]
          },
          "metadata": {},
          "execution_count": 18
        }
      ]
    },
    {
      "cell_type": "code",
      "source": [
        "# train, val split\n",
        "train_data = datasets.MNIST('data',train=True, download=True, transform=transforms.ToTensor())\n",
        "train, val = random_split(train_data,[55000,5000])\n",
        "train_loader = DataLoader(train, batch_size=32)\n",
        "val_loader = DataLoader(val, batch_size=32)\n"
      ],
      "metadata": {
        "id": "COooWeiZe2-m"
      },
      "execution_count": 27,
      "outputs": []
    },
    {
      "cell_type": "code",
      "source": [
        "# Define the model\n",
        "model = nn.Sequential(\n",
        "    nn.Linear(28*28, 64),\n",
        "    nn.ReLU(),\n",
        "    nn.Linear(64, 64),\n",
        "    nn.ReLU(),\n",
        "    nn.Dropout(0.1),  # if we're overfitting\n",
        "    nn.Linear(64, 10)\n",
        "\n",
        ")\n"
      ],
      "metadata": {
        "id": "XCfsERN9VQfF"
      },
      "execution_count": 28,
      "outputs": []
    },
    {
      "cell_type": "code",
      "source": [
        "# Define a more flexible model:\n",
        "\n",
        "class ResNet(nn.Module):\n",
        "  def __init__(self):\n",
        "    super().__init__()\n",
        "    self.l1 = nn.Linear(28*28, 64)\n",
        "    self.l2 = nn.Linear(64, 64)\n",
        "    self.l3 = nn.Linear(64,10)\n",
        "    self.do = nn.Dropout(0.1)\n",
        "\n",
        "  def forward(self, x):\n",
        "    h1 = nn.functional.relu(self.l1(x))\n",
        "    h2 = nn.functional.relu(self.l2(h1))\n",
        "    do = self.do(h2 + h1)\n",
        "    logits = self.l3(do)\n",
        "    return logits\n",
        "\n",
        "model = ResNet()"
      ],
      "metadata": {
        "id": "ZM4qtXPsktPz"
      },
      "execution_count": 40,
      "outputs": []
    },
    {
      "cell_type": "code",
      "source": [
        "# Define the optimizer\n",
        "params = model.parameters()\n",
        "optimizer = optim.SGD(params, lr =1e-2)"
      ],
      "metadata": {
        "id": "-Nkajt5vWJuf"
      },
      "execution_count": 41,
      "outputs": []
    },
    {
      "cell_type": "code",
      "source": [
        "# Define the loss\n",
        "loss = nn.CrossEntropyLoss()"
      ],
      "metadata": {
        "id": "8SOGfyTUWlmx"
      },
      "execution_count": 42,
      "outputs": []
    },
    {
      "cell_type": "code",
      "source": [
        "# Training and validations loop\n",
        "nb_epochs = 5\n",
        "for epoch in range(nb_epochs):\n",
        "  losses = list()\n",
        "  accuracies = list()\n",
        "  model.train()  #because I use dropout\n",
        "\n",
        "  # **Move the model to the GPU**\n",
        "  model.cuda()\n",
        "\n",
        "  for batch in train_loader:\n",
        "    x,y = batch\n",
        "\n",
        "    # x: b x 1 x 28 x28\n",
        "    b = x.size(0)\n",
        "    x = x.view(b, -1).cuda()\n",
        "\n",
        "    # 1. Forward\n",
        "    l = model(x) #l:logits\n",
        "\n",
        "    # 2. compute the objective function\n",
        "    J = loss(l,y.cuda())\n",
        "\n",
        "    # 3. Cleaning the gradients\n",
        "    model.zero_grad()\n",
        "\n",
        "    # 4. Accumlate the partial derivitives of J w.r.t params\n",
        "    J.backward()\n",
        "    # params.grad.sum()\n",
        "\n",
        "    # 5. step in the opposite direction of the gradient\n",
        "    optimizer.step()\n",
        "    # with torch.no_grad(): params = params - eta * params.grad\n",
        "    losses.append(J.item())\n",
        "\n",
        "  print(f'Epoch{epoch +1}, train loss: {torch.tensor(losses).mean():.2f}')\n",
        "\n",
        "  losses = list()\n",
        "  accuracies = list()\n",
        "  model.eval()\n",
        "  for batch in train_loader:\n",
        "    x,y = batch\n",
        "    # x: b x 1 x 28 x28\n",
        "    b = x.size(0)\n",
        "    x = x.view(b, -1).cuda()\n",
        "\n",
        "    # 1. Forward\n",
        "    with torch.no_grad():\n",
        "      l = model(x) #l:logits\n",
        "\n",
        "    # 2. compute the objective function\n",
        "    J = loss(l,y.cuda())\n",
        "    losses.append(J.item())\n",
        "    accuracies.append(y.eq(l.detach().argmax(dim=1).cpu()).float().mean())\n",
        "\n",
        "\n",
        "print(f'Epoch{epoch +1}', end=' , ')\n",
        "print(f'Epoch{epoch +1}, val loss: {torch.tensor(losses).mean():.2f}')\n",
        "print(f'val acc:{torch.tensor(accuracies).mean():.2f}' )\n",
        "\n",
        "\n",
        "\n",
        "\n",
        "\n",
        "\n"
      ],
      "metadata": {
        "colab": {
          "base_uri": "https://localhost:8080/"
        },
        "id": "xsHkT6PBbp_l",
        "outputId": "49cce863-2336-4637-8301-8d55b69cbbd8"
      },
      "execution_count": 44,
      "outputs": [
        {
          "output_type": "stream",
          "name": "stdout",
          "text": [
            "Epoch1, train loss: 0.90\n",
            "Epoch2, train loss: 0.38\n",
            "Epoch3, train loss: 0.31\n",
            "Epoch4, train loss: 0.27\n",
            "Epoch5, train loss: 0.24\n",
            "Epoch5 , Epoch5, val loss: 0.20\n",
            "val acc:0.94\n"
          ]
        }
      ]
    }
  ]
}